{
 "cells": [
  {
   "cell_type": "markdown",
   "id": "e14e9321",
   "metadata": {},
   "source": [
    "# Discounted Cashflow Analysis (DCF) Datasheet by Jan Sulejmani"
   ]
  },
  {
   "cell_type": "markdown",
   "id": "1aa5e2a0",
   "metadata": {},
   "source": [
    "Share Price (in USD):"
   ]
  },
  {
   "cell_type": "code",
   "execution_count": 2,
   "id": "db321c4c",
   "metadata": {},
   "outputs": [],
   "source": [
    "share_price = 3190"
   ]
  },
  {
   "cell_type": "markdown",
   "id": "16c6a9b3",
   "metadata": {},
   "source": [
    "Ticker Symbol:"
   ]
  },
  {
   "cell_type": "code",
   "execution_count": 10,
   "id": "90c108fd",
   "metadata": {},
   "outputs": [],
   "source": [
    "ticker = \"AMZN\""
   ]
  },
  {
   "cell_type": "markdown",
   "id": "f12b284a",
   "metadata": {},
   "source": [
    "Cashflow Per Share (in USD):"
   ]
  },
  {
   "cell_type": "code",
   "execution_count": 1,
   "id": "c0dad182",
   "metadata": {},
   "outputs": [],
   "source": [
    "cashflow = 60.35"
   ]
  },
  {
   "cell_type": "markdown",
   "id": "6b7d4b9c",
   "metadata": {},
   "source": [
    "Discount Rate (in %):"
   ]
  },
  {
   "cell_type": "code",
   "execution_count": 8,
   "id": "fdc738cb",
   "metadata": {},
   "outputs": [],
   "source": [
    "discount_rate = 10"
   ]
  },
  {
   "cell_type": "markdown",
   "id": "02dff33a",
   "metadata": {},
   "source": [
    "List with estimated cashflow growth rates for next ten years in order (in %):"
   ]
  },
  {
   "cell_type": "code",
   "execution_count": 4,
   "id": "ac37fb0e",
   "metadata": {},
   "outputs": [],
   "source": [
    "growth_rates = [20, 20, 20, 20, 20, 20, 20, 20, 20, 20]"
   ]
  },
  {
   "cell_type": "markdown",
   "id": "7a5f970a",
   "metadata": {},
   "source": [
    "Cashflow Multiple:"
   ]
  },
  {
   "cell_type": "code",
   "execution_count": 5,
   "id": "f2c6ba58",
   "metadata": {},
   "outputs": [],
   "source": [
    "cashflow_multiple = 15"
   ]
  },
  {
   "cell_type": "markdown",
   "id": "128a97a7",
   "metadata": {},
   "source": [
    "Margin Of Safety (in %):"
   ]
  },
  {
   "cell_type": "code",
   "execution_count": 6,
   "id": "755c7a81",
   "metadata": {},
   "outputs": [],
   "source": [
    "margin_of_safety = 20"
   ]
  },
  {
   "cell_type": "code",
   "execution_count": 11,
   "id": "50c217c0",
   "metadata": {},
   "outputs": [
    {
     "name": "stdout",
     "output_type": "stream",
     "text": [
      "Cashflow in 2021: 72.42 $\n",
      "Cashflow in 2022: 86.9 $\n",
      "Cashflow in 2023: 104.28 $\n",
      "Cashflow in 2024: 125.14 $\n",
      "Cashflow in 2025: 150.17 $\n",
      "Cashflow in 2026: 180.2 $\n",
      "Cashflow in 2027: 216.24 $\n",
      "Cashflow in 2028: 259.49 $\n",
      "Cashflow in 2029: 311.39 $\n",
      "Cashflow in 2030: 373.67 $\n",
      "\n",
      "Discounted Cashflow in 2021: 65.84 $\n",
      "Discounted Cashflow in 2022: 79.0 $\n",
      "Discounted Cashflow in 2023: 94.8 $\n",
      "Discounted Cashflow in 2024: 113.76 $\n",
      "Discounted Cashflow in 2025: 136.52 $\n",
      "Discounted Cashflow in 2026: 163.82 $\n",
      "Discounted Cashflow in 2027: 196.58 $\n",
      "Discounted Cashflow in 2028: 235.9 $\n",
      "Discounted Cashflow in 2029: 283.08 $\n",
      "Discounted Cashflow in 2030: 339.7 $\n",
      "\n",
      "Selling price is 5605 $ \n",
      "\n",
      "AMZN's intrinsic value per share is 7314 $\n",
      "The intrinsic value of AMZN with a margin of safety of 20% is 5851 $\n",
      "AMZN's current share price is 3190 $\n"
     ]
    }
   ],
   "source": [
    "cashflow_list = []\n",
    "def projected_cashflows_ten_years_into_future(current_cashflow):\n",
    "    year_counter = 2021\n",
    "    for rate in growth_rates:\n",
    "        if len(cashflow_list) < 1: \n",
    "            cashflow_list.append(round(current_cashflow * (1+rate/100),2))\n",
    "        else:\n",
    "            cashflow_list.append(round(cashflow_list[-1] * (1+rate/100), 2))\n",
    "    \n",
    "    for cashflow in cashflow_list:\n",
    "        print(f\"Cashflow in {year_counter}: {cashflow} $\")\n",
    "        year_counter += 1\n",
    "    \n",
    "    print(\"\")\n",
    "\n",
    "    \n",
    "projected_cashflows_ten_years_into_future(cashflow)\n",
    "\n",
    "discounted_cashflow_list = []\n",
    "def discount_cashflows(cashflow_lst):\n",
    "    year_number = 1\n",
    "    year_counter = 2021\n",
    "    for cashflow in cashflow_lst:\n",
    "        discounted_cashflow_list.append(round(cashflow/((1+discount_rate/100)**year_number), 2))\n",
    "    \n",
    "    for discounted_cashflow in discounted_cashflow_list:\n",
    "        print(f\"Discounted Cashflow in {year_counter}: {discounted_cashflow} $\")\n",
    "        year_counter += 1\n",
    "    print(\"\")\n",
    "    \n",
    "discount_cashflows(cashflow_list)\n",
    "\n",
    "def calculate_terminal_value(last_cashflow):\n",
    "    return round(last_cashflow * cashflow_multiple)\n",
    "\n",
    "\n",
    "def calculate_intrinsic_value(growth_period_cashflows):\n",
    "    intrinsic_value = 0\n",
    "    for cashflow in growth_period_cashflows:\n",
    "        intrinsic_value += cashflow\n",
    "    intrinsic_value += calculate_terminal_value(cashflow_list[-1])\n",
    "    \n",
    "    return round(intrinsic_value)\n",
    "\n",
    "print(f\"Selling price is {calculate_terminal_value(cashflow_list[-1])} $ \\n\")\n",
    "        \n",
    "print(f\"{ticker}'s intrinsic value per share is {calculate_intrinsic_value(discounted_cashflow_list)} $\")\n",
    "\n",
    "print(f\"The intrinsic value of {ticker} with a margin of safety of {margin_of_safety}% is {round(calculate_intrinsic_value(discounted_cashflow_list)*(1-margin_of_safety/100))} $\")\n",
    "\n",
    "print(f\"{ticker}'s current share price is {share_price} $\")"
   ]
  },
  {
   "cell_type": "code",
   "execution_count": 3,
   "id": "a862f374",
   "metadata": {},
   "outputs": [],
   "source": [
    "last_changed = \"Oct 4 2021\""
   ]
  }
 ],
 "metadata": {
  "kernelspec": {
   "display_name": "Python 3 (ipykernel)",
   "language": "python",
   "name": "python3"
  },
  "language_info": {
   "codemirror_mode": {
    "name": "ipython",
    "version": 3
   },
   "file_extension": ".py",
   "mimetype": "text/x-python",
   "name": "python",
   "nbconvert_exporter": "python",
   "pygments_lexer": "ipython3",
   "version": "3.9.4"
  }
 },
 "nbformat": 4,
 "nbformat_minor": 5
}
